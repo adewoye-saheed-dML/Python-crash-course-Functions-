{
 "cells": [
  {
   "cell_type": "markdown",
   "id": "1a7d93fc-b716-45aa-b11c-b615d9b551b7",
   "metadata": {},
   "source": [
    "# Function Exercises"
   ]
  },
  {
   "cell_type": "markdown",
   "id": "9d54e8a7-1a19-46da-bcde-29627f6bd20b",
   "metadata": {},
   "source": [
    "### 8-1"
   ]
  },
  {
   "cell_type": "markdown",
   "id": "b37357ee-b882-4806-9200-6976a19dc99d",
   "metadata": {},
   "source": [
    " Write a function called display_message() that prints one sen-\r\n",
    "tence telling everyone what you are learning about in this chapter . Call the\r\n",
    "function, and make sure the message displays correctly ."
   ]
  },
  {
   "cell_type": "code",
   "execution_count": 7,
   "id": "02bef04b-b86d-482b-be9a-04e283695494",
   "metadata": {},
   "outputs": [
    {
     "name": "stdout",
     "output_type": "stream",
     "text": [
      "I'm currently learning function with python crash course textbook\n"
     ]
    }
   ],
   "source": [
    "def display_message():\n",
    "    print(\"I'm currently learning function with python crash course textbook\")\n",
    "\n",
    "display_message()\n"
   ]
  },
  {
   "cell_type": "markdown",
   "id": "e8713b68-c062-4ed2-a5cb-9986c2e169a7",
   "metadata": {},
   "source": [
    "### 8-2"
   ]
  },
  {
   "cell_type": "markdown",
   "id": "5928f78e-b5cd-47aa-abba-8680d46f510c",
   "metadata": {},
   "source": [
    "Write a function called favorite_book() that accepts one\r\n",
    "parameter, title . The function should print a message, such as One of my\r\n",
    "favorite books is Alice in Wonderland . Call the function, making sure to\r\n",
    "include a book title as an argument in the function call ."
   ]
  },
  {
   "cell_type": "code",
   "execution_count": 6,
   "id": "387f6549-dd60-4cb2-9811-7988212b80f3",
   "metadata": {},
   "outputs": [
    {
     "name": "stdout",
     "output_type": "stream",
     "text": [
      "One of my favorite book is Alice In Wonderland\n"
     ]
    }
   ],
   "source": [
    "def favorite_book(parameter):\n",
    "    print('One of my favorite book is '+ parameter.title())\n",
    "\n",
    "favorite_book('alice in wonderland')\n",
    "    "
   ]
  },
  {
   "cell_type": "markdown",
   "id": "be7523eb-d0aa-4cae-a1c8-3599c04e0962",
   "metadata": {},
   "source": [
    "### 8-3"
   ]
  },
  {
   "cell_type": "markdown",
   "id": "bb3bd16c-97fb-43ba-806e-afaa9ed861ab",
   "metadata": {},
   "source": [
    "Write a function called make_shirt() that accepts a size and the\r\n",
    "text of a message that should be printed on the shirt . The function should print\r\n",
    "a sentence summarizing the size of the shirt and the message printed on it .\r\n",
    "Call the function once using positional arguments to make a shirt . Call the\r\n",
    "function a second time using keyword arguments ."
   ]
  },
  {
   "cell_type": "code",
   "execution_count": 65,
   "id": "dedfdf4d-a6d7-4faf-ae08-4a30012e5d93",
   "metadata": {},
   "outputs": [
    {
     "name": "stdout",
     "output_type": "stream",
     "text": [
      "\n",
      "your shirt size is XL\n",
      "your shirt text is Adewoye Saheed\n",
      "\n",
      "your shirt size is XL\n",
      "your shirt text is Adewoye Saheed\n"
     ]
    }
   ],
   "source": [
    "def make_shirt(size, text):\n",
    "    print('\\nyour shirt size is ' + size)\n",
    "    print('your shirt text is ' + text.title())\n",
    "\n",
    "# calling the function using positional argument\n",
    "make_shirt('XL', 'adewoye saheed')\n",
    "\n",
    "# calling the function using keyword argument\n",
    "make_shirt(size = 'XL', text = 'adewoye saheed')"
   ]
  },
  {
   "cell_type": "markdown",
   "id": "a6121915-aa28-4dc9-80af-122dff49755c",
   "metadata": {},
   "source": [
    "### 8-4"
   ]
  },
  {
   "cell_type": "markdown",
   "id": "38a096de-22d4-4a12-8bbf-4331136689a5",
   "metadata": {},
   "source": [
    "Modify the make_shirt() function so that shirts are large\r\n",
    "by default with a message that reads I love Python . Make a large shirt and a\r\n",
    "medium shirt with the default message, and a shirt of any size with a different\r\n",
    "message "
   ]
  },
  {
   "cell_type": "code",
   "execution_count": 4,
   "id": "4a489c8b-b23d-4f76-be8d-d38a7308622e",
   "metadata": {},
   "outputs": [
    {
     "name": "stdout",
     "output_type": "stream",
     "text": [
      "\n",
      "your shirt size is XL\n",
      "your shirt text is I Love Python\n",
      "your shirt text is I Love Python\n"
     ]
    }
   ],
   "source": [
    "def make_shirt(size, Ltext = 'I love Python', Mtext = 'I love Python'):\n",
    "    print('\\nyour shirt size is ' + size)\n",
    "    print('your shirt text is ' + Ltext.title())\n",
    "    print('your shirt text is ' + Mtext.title())\n",
    "\n",
    "make_shirt('XL')\n"
   ]
  },
  {
   "cell_type": "markdown",
   "id": "d1069954-d3e9-4b06-8fd6-35ef0f901abe",
   "metadata": {},
   "source": [
    "### 8-5"
   ]
  },
  {
   "cell_type": "markdown",
   "id": "d59995f4-cd0c-4d3f-84b6-58198ec03793",
   "metadata": {},
   "source": [
    "Write a function called describe_city() that accepts the name of\r\n",
    "a city and its country . The function should print a simple sentence, such as\r\n",
    "Reykjavik is in Iceland . Give the parameter for the country a default value .\r\n",
    "Call your function for three different cities, at least one of which is not in the\r\n",
    "default country ."
   ]
  },
  {
   "cell_type": "code",
   "execution_count": 5,
   "id": "a9af15e2-6f6a-45f9-83cf-e5a4438ceb25",
   "metadata": {},
   "outputs": [
    {
     "name": "stdout",
     "output_type": "stream",
     "text": [
      "Ilorin is in Nigeria\n",
      "Ilorin is in Saudi\n",
      "Ilorin is in Nigeria\n"
     ]
    }
   ],
   "source": [
    "def describe_city(city, country= 'Nigeria'):\n",
    "    print(city.title() + ' is in ' + country.title())\n",
    "\n",
    "describe_city('ilorin', 'Nigeria')\n",
    "describe_city('ilorin', 'Saudi')\n",
    "describe_city('ilorin')"
   ]
  },
  {
   "cell_type": "markdown",
   "id": "8af394de-26e5-4d91-9c8e-b543168fb79c",
   "metadata": {},
   "source": [
    "### 8-6"
   ]
  },
  {
   "cell_type": "markdown",
   "id": "5b627069-5c75-432c-a194-1d1d93427729",
   "metadata": {},
   "source": [
    "Write a function called city_country() that takes in the name\r\n",
    "of a city and its country . The function should return a string formatted like this:\r\n",
    "\"Santiago, Chil\n",
    "\"\r\n",
    "Call your function with at least three city-country pairs, and print the value\r\n",
    "that’s returned "
   ]
  },
  {
   "cell_type": "code",
   "execution_count": 3,
   "id": "fad6299f-e9ee-44b0-a043-803ec98c9678",
   "metadata": {},
   "outputs": [
    {
     "name": "stdout",
     "output_type": "stream",
     "text": [
      "Santiago, Chile\n",
      "Zaria, Niger\n",
      "Ilorin, Nigeria\n"
     ]
    }
   ],
   "source": [
    "def city_country(city, country):\n",
    "    city = f\"{city.title()}, {country.title()}\"\n",
    "    return city\n",
    "\n",
    "print(city_country('Santiago', 'chile'))\n",
    "print(city_country('zaria', 'niger'))\n",
    "print(city_country('ilorin', 'nigeria'))"
   ]
  },
  {
   "cell_type": "markdown",
   "id": "efcf6882-1e18-4bb8-87b0-deff84ffae6c",
   "metadata": {},
   "source": [
    "### 8-7"
   ]
  },
  {
   "cell_type": "markdown",
   "id": "26710d00-2abe-4914-a499-550fbb07fb54",
   "metadata": {},
   "source": [
    "Write a function called make_album() that builds a dictionary\r\n",
    "describing a music album . The function should take in an artist name and an\r\n",
    "album title, and it should return a dictionary containing these two pieces of\r\n",
    "information . Use the function to make three dictionaries representing different\r\n",
    "albums . Print each return value to show that the dictionaries are storing the\r\n",
    "album information correctly .\r\n",
    "Add an optional parameter to make_album() that allows you to store the\r\n",
    "number of tracks on an album . If the calling line includes a value for the num-\r\n",
    "ber of tracks, add that value to the album’s dictionary . Make at least one new\r\n",
    "function call that includes the number of tracks on an album ."
   ]
  },
  {
   "cell_type": "code",
   "execution_count": 18,
   "id": "f0d453c2-1593-4ae3-84cb-53c68b20059b",
   "metadata": {},
   "outputs": [
    {
     "name": "stdout",
     "output_type": "stream",
     "text": [
      "{'Artist': 'Saheed', 'Album': 'Najm'}\n",
      "{'Artist': 'Abubakar', 'Album': 'Tawbah'}\n",
      "{'Artist': 'Umar', 'Album': 'Bakoroh'}\n",
      "{'Artist': 'Ali', 'Album': 'Taha', 'Track': 44}\n"
     ]
    }
   ],
   "source": [
    "def make_album(artist, album, track=''):\n",
    "    person = {'Artist':artist.title(), 'Album':album.title()}\n",
    "    if track:\n",
    "        person['Track']=track\n",
    "    return person\n",
    "\n",
    "album_1 = make_album('saheed','najm')\n",
    "album_2 = make_album('abubakar','tawbah')\n",
    "album_3 = make_album('umar','bakoroh')\n",
    "\n",
    "print(album_1)\n",
    "print(album_2)\n",
    "print(album_3)\n",
    "\n",
    "# function that include the number of track\n",
    "album_4 = make_album('ali','taha',44)\n",
    "print(album_4)"
   ]
  },
  {
   "cell_type": "markdown",
   "id": "ed32a870-76d3-4e33-ba03-f89f2bf984f1",
   "metadata": {},
   "source": [
    "### 8-8"
   ]
  },
  {
   "cell_type": "markdown",
   "id": "2855714a-09d1-42f0-b438-d2c2596cf293",
   "metadata": {},
   "source": [
    "Start with your program from Exercise 8-7 . Write a while\r\n",
    "loop that allows users to enter an album’s artist and title . Once you have that\r\n",
    "information, call make_album() with the user’s input and print the dictionary\r\n",
    "that’s created . Be sure to include a quit value in the while loop "
   ]
  },
  {
   "cell_type": "code",
   "execution_count": 29,
   "id": "2dfb2da7-8d8d-4ff0-86b9-f7af332dee53",
   "metadata": {},
   "outputs": [
    {
     "name": "stdin",
     "output_type": "stream",
     "text": [
      "enter your artist name (or 'quit' to exit):  saheed\n",
      "enter the album:  najm\n"
     ]
    },
    {
     "name": "stdout",
     "output_type": "stream",
     "text": [
      "{'Artist': 'Saheed', 'Album': 'Najm'}\n"
     ]
    },
    {
     "name": "stdin",
     "output_type": "stream",
     "text": [
      "enter your artist name (or 'quit' to exit):  quit\n"
     ]
    }
   ],
   "source": [
    "def make_album(artist, album):\n",
    "    person = {'Artist':artist.title(), 'Album':album.title()}\n",
    "    return person\n",
    "\n",
    "while True:\n",
    "    art = input(\"enter your artist name (or 'quit' to exit): \")\n",
    "    if art =='quit':\n",
    "        break\n",
    "        \n",
    "    alb = input('enter the album: ')\n",
    "    \n",
    "    nt = make_album(art, alb)\n",
    "    print(nt)"
   ]
  },
  {
   "cell_type": "markdown",
   "id": "23e0cb58-9374-4856-bc07-0eba7ca595ed",
   "metadata": {},
   "source": [
    "### 8-9"
   ]
  },
  {
   "cell_type": "markdown",
   "id": "ce72e4af-019c-4ee1-9977-9c6c42ed95e8",
   "metadata": {},
   "source": [
    "Make a list of magician’s names . Pass the list to a function\r\n",
    "called show_magicians(), which prints the name of each magician in the list ."
   ]
  },
  {
   "cell_type": "code",
   "execution_count": 44,
   "id": "cd817048-cc54-416d-8f27-1bd535bedf76",
   "metadata": {},
   "outputs": [
    {
     "name": "stdout",
     "output_type": "stream",
     "text": [
      "vv\n",
      "hh\n",
      "tt\n",
      "ee\n"
     ]
    }
   ],
   "source": [
    "def show_magicians(names):\n",
    "    for name in names:\n",
    "        print(name)\n",
    "        \n",
    "magicians = ['vv','hh','tt','ee']\n",
    "show_magicians(magicians)"
   ]
  },
  {
   "cell_type": "markdown",
   "id": "89e10ba6-f377-47df-a98b-2c17f432d718",
   "metadata": {},
   "source": [
    "### 8-10"
   ]
  },
  {
   "cell_type": "markdown",
   "id": "38ccfe10-1113-409a-83cc-48d9fd4df34d",
   "metadata": {},
   "source": [
    "Start with a copy of your program from Exercise 8-9 .\r\n",
    "Write a function called make_great() that modifies the list of magicians by add-\r\n",
    "ing the phrase the Great to each magician’s name . Call show_magicians() to\r\n",
    "see that the list has actually been modified ."
   ]
  },
  {
   "cell_type": "code",
   "execution_count": 46,
   "id": "bcefdbeb-344f-4393-a837-d6929faf4368",
   "metadata": {},
   "outputs": [
    {
     "name": "stdout",
     "output_type": "stream",
     "text": [
      "vv the Great\n",
      "hh the Great\n",
      "tt the Great\n",
      "ee the Great\n"
     ]
    }
   ],
   "source": [
    "def make_great(names):\n",
    "    new_magician = []\n",
    "    for name in names:\n",
    "        great_mag = name + ' the Great'\n",
    "        new_magician.append(great_mag)\n",
    "    return new_magician\n",
    "        \n",
    "mk = make_great(magicians[:])\n",
    "show_magicians(mk)\n",
    "    "
   ]
  },
  {
   "cell_type": "markdown",
   "id": "892f8691-5c50-4cc4-8946-2286fd6a55f6",
   "metadata": {},
   "source": [
    "### 8-11"
   ]
  },
  {
   "cell_type": "markdown",
   "id": "7974ddcc-fcf3-421c-a676-6e262be23f98",
   "metadata": {},
   "source": [
    "Start with your work from Exercise 8-10 . Call the\r\n",
    "function make_great() with a copy of the list of magicians’ names . Because the\r\n",
    "original list will be unchanged, return the new list and store it in a separate list .\r\n",
    "Call show_magicians() with each list to show that you have one list of the origi-\r\n",
    "nal names and one list with the Great added to each magician’s name"
   ]
  },
  {
   "cell_type": "code",
   "execution_count": 50,
   "id": "efc72a8b-89d8-405c-9c1a-2588e1c1a82f",
   "metadata": {},
   "outputs": [
    {
     "name": "stdout",
     "output_type": "stream",
     "text": [
      "vv\n",
      "hh\n",
      "tt\n",
      "ee\n",
      "\n",
      "\n",
      "vv the Great\n",
      "hh the Great\n",
      "tt the Great\n",
      "ee the Great\n"
     ]
    }
   ],
   "source": [
    "original_mag = make_great(magicians[:])\n",
    "show_magicians(magicians)\n",
    "print('\\n')\n",
    "show_magicians(original_mag)"
   ]
  },
  {
   "cell_type": "markdown",
   "id": "431ac74a-b72c-4861-9ca3-c69d7943d858",
   "metadata": {},
   "source": [
    "### 8-12"
   ]
  },
  {
   "cell_type": "markdown",
   "id": "cf7bb4d3-a82f-4ee0-a3fe-fad8cb3a7f3d",
   "metadata": {},
   "source": [
    "Write a function that accepts a list of items a person wants\r\n",
    "on a sandwich . The function should have one parameter that collects as many\r\n",
    "items as the function call provides, and it should print a summary of the sand-\r\n",
    "wich that is being ordered . Call the function three times, using a different num-\r\n",
    "ber of arguments each time "
   ]
  },
  {
   "cell_type": "code",
   "execution_count": 61,
   "id": "4aa6a679-89d5-4e9a-b281-7cf02dae7939",
   "metadata": {},
   "outputs": [
    {
     "name": "stdout",
     "output_type": "stream",
     "text": [
      "\n",
      " Here is the list of my sandwich items: \n",
      "- macc\n",
      "\n",
      " Here is the list of my sandwich items: \n",
      "- mac\n",
      "- pepperoni\n",
      "\n",
      " Here is the list of my sandwich items: \n",
      "- macc\n",
      "- maggi\n",
      "- onion\n"
     ]
    }
   ],
   "source": [
    "def sandwich(*items):\n",
    "    print('\\n Here is the list of my sandwich items: ')\n",
    "    for item in items:\n",
    "        print('- '+item)\n",
    "        \n",
    "sandwich('macc')\n",
    "sandwich('mac', 'pepperoni')\n",
    "sandwich('macc','maggi','onion') "
   ]
  },
  {
   "cell_type": "markdown",
   "id": "c89a5ab0-5580-4c74-8aa2-430658c01607",
   "metadata": {},
   "source": [
    "### 8-13"
   ]
  },
  {
   "cell_type": "markdown",
   "id": "c2bfe581-e40c-46bc-a3d9-52e1c0b0e8d1",
   "metadata": {},
   "source": [
    "Start with a copy of user_profile.py from page 153 . Build\r\n",
    "a profile of yourself by calling build_profile(), using your first and last names\r\n",
    "and three other key-value pairs that describe you ."
   ]
  },
  {
   "cell_type": "code",
   "execution_count": 59,
   "id": "7e748227-b431-404c-861a-9ebdf5876cc0",
   "metadata": {},
   "outputs": [
    {
     "name": "stdout",
     "output_type": "stream",
     "text": [
      "{'first_name': 'Saheed', 'last_name': 'Adewoye', 'location': 'ilorin', 'field': 'mechanical engineering', 'age': 120}\n"
     ]
    }
   ],
   "source": [
    "def build_profile(first, last, **user_info):\n",
    "    profile = {}\n",
    "    profile['first_name'] = first\n",
    "    profile['last_name'] = last\n",
    "    \n",
    "    for key, value in user_info.items():\n",
    "        profile[key] = value\n",
    "    return profile\n",
    "    \n",
    "user_profile = build_profile('Saheed', 'Adewoye', location='ilorin',field='mechanical engineering', age=120)\n",
    "print(user_profile)"
   ]
  },
  {
   "cell_type": "markdown",
   "id": "c52734b1-343c-4a6c-88c2-bc8c25f03e75",
   "metadata": {},
   "source": [
    "### 8-14"
   ]
  },
  {
   "cell_type": "markdown",
   "id": "a5f3b0f3-35ab-47cc-8aa2-98bd9c17e036",
   "metadata": {},
   "source": [
    "Write a function that stores information about a car in a diction-\r\n",
    "ary . The function should always receive a manufacturer and a model name . It\r\n",
    "should then accept an arbitrary number of keyword arguments . Call the func-\r\n",
    "tion with the required information and two other name-value pairs, such as a\r\n",
    "color or an optional feature . Your function should work for a call like this one:\r\n",
    "car = make_car('subaru', 'outback', color='blue', tow_package=True)\r\n",
    "Print the dictionary that’s returned to make sure all the information was\r\n",
    "stored correctly ."
   ]
  },
  {
   "cell_type": "code",
   "execution_count": 64,
   "id": "2c6d47ac-087a-4a9a-8f5e-2dd0a743ae6e",
   "metadata": {},
   "outputs": [
    {
     "name": "stdout",
     "output_type": "stream",
     "text": [
      "{'manufacturer': 'subaru', 'model': 'outback', 'color': 'blue', 'tow_package': True}\n"
     ]
    }
   ],
   "source": [
    "def make_car(manufacturer, model, **other_info):\n",
    "    car = {}\n",
    "    car['manufacturer']= manufacturer\n",
    "    car['model'] = model\n",
    "\n",
    "    for key, value in other_info.items():\n",
    "        car[key]=value\n",
    "    return car\n",
    "cars = make_car('subaru', 'outback', color='blue', tow_package=True)\n",
    "print(cars)\n"
   ]
  },
  {
   "cell_type": "markdown",
   "id": "cc7c62eb-fa01-4929-b625-c53bb655fb3f",
   "metadata": {},
   "source": [
    "### 8-15"
   ]
  },
  {
   "cell_type": "markdown",
   "id": "374e21f0-a0e8-4e01-93cf-709f45e79ad1",
   "metadata": {},
   "source": [
    "Put the functions for the example print_models.py in a\r\n",
    "separate file called printing_functions.py . Write an import statement at the top\r\n",
    "of print_models.py, and modify the file to use the imported functions ."
   ]
  },
  {
   "cell_type": "code",
   "execution_count": null,
   "id": "88e70f30-0d3d-45e9-b34c-c8bcd81a3ab4",
   "metadata": {},
   "outputs": [],
   "source": [
    "import printing_functions"
   ]
  },
  {
   "cell_type": "markdown",
   "id": "7a2af4cd-fb88-4dd4-89b8-79133194821e",
   "metadata": {},
   "source": [
    "### 8-16"
   ]
  },
  {
   "cell_type": "markdown",
   "id": "e2755bc8-62cd-4fad-8282-ef8f5f079ce4",
   "metadata": {},
   "source": [
    "Using a program you wrote that has one function in it, store that\r\n",
    "function in a separate file . Import the function into your main program file, and\r\n",
    "call the function using each of these approache\n",
    "s:\r\n",
    "import module_name\r\n",
    "from module_name import function_name\r\n",
    "from module_name import function_name as fn\r\n",
    "import module_name as mn\r\n",
    "from module_name import *mport *"
   ]
  },
  {
   "cell_type": "code",
   "execution_count": null,
   "id": "a4a42072-f6f9-4dc4-9e85-5a294ab5b53e",
   "metadata": {},
   "outputs": [],
   "source": [
    "import printing_functions\n",
    "from printing_functions import show_completed_models\n",
    "from printing_functions import show_completed_models as scm\n",
    "import printing_functions as pf\n",
    "from printing_functions import *"
   ]
  },
  {
   "cell_type": "markdown",
   "id": "502189ec-7aba-487e-ad52-0943ad403640",
   "metadata": {},
   "source": [
    "### 8-17"
   ]
  },
  {
   "cell_type": "markdown",
   "id": "50660d56-17ec-4f84-ab96-8eccd214d986",
   "metadata": {},
   "source": [
    "Choose any three programs you wrote for this chapter,\r\n",
    "and make sure they follow the styling guidelines described in this section ."
   ]
  },
  {
   "cell_type": "code",
   "execution_count": 72,
   "id": "935b0ec7-e472-47cd-aed6-4019157c6a02",
   "metadata": {},
   "outputs": [
    {
     "ename": "TypeError",
     "evalue": "build_profile() missing 1 required positional argument: 'height'",
     "output_type": "error",
     "traceback": [
      "\u001b[1;31m---------------------------------------------------------------------------\u001b[0m",
      "\u001b[1;31mTypeError\u001b[0m                                 Traceback (most recent call last)",
      "Cell \u001b[1;32mIn[72], line 16\u001b[0m\n\u001b[0;32m     13\u001b[0m         profile[key] \u001b[38;5;241m=\u001b[39m value\n\u001b[0;32m     14\u001b[0m     \u001b[38;5;28;01mreturn\u001b[39;00m profile\n\u001b[1;32m---> 16\u001b[0m user_profile \u001b[38;5;241m=\u001b[39m \u001b[43mbuild_profile\u001b[49m\u001b[43m(\u001b[49m\u001b[38;5;124;43m'\u001b[39;49m\u001b[38;5;124;43mSaheed\u001b[39;49m\u001b[38;5;124;43m'\u001b[39;49m\u001b[43m,\u001b[49m\u001b[43m \u001b[49m\u001b[38;5;124;43m'\u001b[39;49m\u001b[38;5;124;43mAdewoye\u001b[39;49m\u001b[38;5;124;43m'\u001b[39;49m\u001b[43m,\u001b[49m\u001b[43m \u001b[49m\u001b[38;5;124;43m'\u001b[39;49m\u001b[38;5;124;43mABU\u001b[39;49m\u001b[38;5;124;43m'\u001b[39;49m\u001b[43m,\u001b[49m\u001b[43m \u001b[49m\u001b[38;5;241;43m23\u001b[39;49m\u001b[43m,\u001b[49m\u001b[43m \u001b[49m\u001b[43mlocation\u001b[49m\u001b[38;5;241;43m=\u001b[39;49m\u001b[38;5;124;43m'\u001b[39;49m\u001b[38;5;124;43milorin\u001b[39;49m\u001b[38;5;124;43m'\u001b[39;49m\u001b[43m,\u001b[49m\u001b[43mfield\u001b[49m\u001b[38;5;241;43m=\u001b[39;49m\u001b[38;5;124;43m'\u001b[39;49m\u001b[38;5;124;43mmechanical engineering\u001b[39;49m\u001b[38;5;124;43m'\u001b[39;49m\u001b[43m,\u001b[49m\u001b[43m \u001b[49m\u001b[43mage\u001b[49m\u001b[38;5;241;43m=\u001b[39;49m\u001b[38;5;241;43m120\u001b[39;49m\u001b[43m)\u001b[49m\n\u001b[0;32m     17\u001b[0m \u001b[38;5;28mprint\u001b[39m(user_profile)\n",
      "\u001b[1;31mTypeError\u001b[0m: build_profile() missing 1 required positional argument: 'height'"
     ]
    }
   ],
   "source": [
    "def build_profile(\n",
    "    first, last,school,\n",
    "    department, height,\n",
    "    **user_info):\n",
    "    \n",
    "    profile = {}\n",
    "    profile['first_name'] = first\n",
    "    profile['last_name'] = last\n",
    "    profile['school'] = school\n",
    "    profile['height'] = height\n",
    "    \n",
    "    for key, value in user_info.items():\n",
    "        profile[key] = value\n",
    "    return profile\n",
    "    \n",
    "user_profile = build_profile('Saheed', 'Adewoye', 'ABU','me' 23, location='ilorin',field='mechanical engineering', age=120)\n",
    "print(user_profile)"
   ]
  },
  {
   "cell_type": "code",
   "execution_count": null,
   "id": "9b3a1647-b83e-4692-9598-6ad4b69ce94c",
   "metadata": {},
   "outputs": [],
   "source": []
  }
 ],
 "metadata": {
  "kernelspec": {
   "display_name": "Python 3 (ipykernel)",
   "language": "python",
   "name": "python3"
  },
  "language_info": {
   "codemirror_mode": {
    "name": "ipython",
    "version": 3
   },
   "file_extension": ".py",
   "mimetype": "text/x-python",
   "name": "python",
   "nbconvert_exporter": "python",
   "pygments_lexer": "ipython3",
   "version": "3.8.18"
  }
 },
 "nbformat": 4,
 "nbformat_minor": 5
}
